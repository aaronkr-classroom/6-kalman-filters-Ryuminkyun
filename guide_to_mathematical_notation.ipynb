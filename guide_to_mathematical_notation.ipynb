{
 "cells": [
  {
   "cell_type": "markdown",
   "metadata": {},
   "source": [
    "# Becoming \"Wikipedia proficient\"\n",
    "\n",
    "The goal of this course is **not** for you to memorize how to calculate a dot product or multiply matrices. The goal is for you to be able to do something useful with a wikipedia page like their [article on Kalman Filters](https://en.wikipedia.org/wiki/Kalman_filter), even if requires some additional research and review from you.\n",
    "\n",
    "But these pages are usually written in the notation of **linear algebra** and not the notation of computer programming. \n",
    "\n",
    "In this notebook you will learn something about how to navigate the notation of linear algebra and how to translate it into computer code.\n",
    "\n",
    "# \"위키피디아 능숙자 되기\"\n",
    "\n",
    "이 과정의 목표는 점곱이나 행렬 곱셈을 계산하는 방법을 암기하는 것이 **아닙니다**. [칼만 필터 관련 문서](https://en.wikipedia.org/wiki/Kalman_filter)와 같은 위키피디아 페이지를 활용하여 유용한 작업을 수행할 수 있도록 하는 것입니다. 추가적인 조사와 복습이 필요하더라도 마찬가지입니다.\n",
    "\n",
    "하지만 이러한 페이지는 일반적으로 컴퓨터 프로그래밍 표기법이 아닌 **선형대수** 표기법으로 작성됩니다.\n",
    "\n",
    "이 노트에서는 선형대수 표기법을 이해하고 이를 컴퓨터 코드로 변환하는 방법을 배우게 됩니다."
   ]
  },
  {
   "cell_type": "markdown",
   "metadata": {},
   "source": [
    "## Analyzing The Dot Product Equation\n",
    "At the time I'm writing this, the wikipedia article on the [dot product](https://en.wikipedia.org/wiki/Dot_product) begins with a section called **Algebraic Definition**, which starts like this:\n",
    "\n",
    "> The dot product of two vectors $\\mathbf{a} = [a_1, a_2, \\ldots, a_n]$ and $\\mathbf{b} = [b_1, b_2, \\ldots, b_n]$ is defined as: \n",
    "> \n",
    "> $$\\mathbf{a} \\cdot \\mathbf{b} = \\sum _{i=1}^{n}a_{i}b_{i}=a_{1}b_{1}+a_{2}b_{2}+\\cdots +a_{n}b_{n}$$\n",
    "\n",
    "If you don't know what to look for, this can be pretty unhelfpul. Let's take a look at three features of this equation which can be helpful to understand...\n",
    "\n",
    "### Feature 1 - Lowercase vs uppercase variables\n",
    "\n",
    "This equation only uses lowercase variables. In general, lowercase variables are used when discussing **vectors** or **scalars** (regular numbers like 3, -2.5, etc...) while UPPERCASE variables are reserved for matrices. \n",
    "\n",
    "### Feature 2 - Bold vs regular typeface for variables\n",
    "\n",
    "A variable in **bold** typeface indicates a vector or a matrix. A variable in regular typeface is a scalar.\n",
    "\n",
    "\n",
    "### Feature 3 - \"...\" in equations\n",
    "\n",
    "When you see three dots $\\ldots$ in an equation it means \"this pattern could continue any number of times\"\n",
    "\n",
    "#### EXAMPLE 1 - APPLYING FEATURES 1, 2, and 3\n",
    "\n",
    "When you see something like $\\mathbf{a} = [a_1, a_2, \\ldots, a_n]$ you can infer the following:\n",
    "\n",
    "1. **$\\mathbf{a}$ is a vector**: since a is bold it's either a vector OR a matrix, but since it's also lowercase, we know it can only be a vector.\n",
    "2. **$\\mathbf{a}$ can have any length**: since there's a $\\ldots$ in the definition for $\\mathbf{a}$, we know that in addition to $a_1$ and $a_2$ there could also be $a_3$, $a_4$, and so on... \n",
    "3. **The values in the $\\mathbf{a}$ vector are scalars**: since $a_1$ is lowercase and non-bold we know that it must be a scalar (regular number) as opposed to being a vector or matrix.\n",
    "\n",
    "## 내적 방정식 분석\n",
    "이 글을 쓰는 시점에 [내적](https://en.wikipedia.org/wiki/Dot_product)에 대한 위키백과 문서는 **대수적 정의**라는 섹션으로 시작하는데, 다음과 같이 시작합니다.\n",
    "\n",
    "> 두 벡터 $\\mathbf{a} = [a_1, a_2, \\ldots, a_n]$과 $\\mathbf{b} = [b_1, b_2, \\ldots, b_n]$의 내적은 다음과 같이 정의됩니다.\n",
    ">\n",
    "> $$\\mathbf{a} \\cdot \\mathbf{b} = \\sum _{i=1}^{n}a_{i}b_{i}=a_{1}b_{1}+a_{2}b_{2}+\\cdots +a_{n}b_{n}$$\n",
    "\n",
    "만약 무엇을 찾아야 할지 모르겠어요. 꽤 도움이 될 수 있죠. 이 방정식의 세 가지 특징을 살펴보면 이해하기에 도움이 될 것입니다.\n",
    "\n",
    "### 특징 1 - 소문자 변수 vs. 대문자 변수\n",
    "\n",
    "이 방정식은 소문자 변수만 사용합니다. 일반적으로 소문자 변수는 **벡터** 또는 **스칼라**(3, -2.5 등의 일반 숫자)를 설명할 때 사용되며, 대문자 변수는 행렬에 사용됩니다.\n",
    "\n",
    "### 특징 2 - 변수의 굵은 글꼴 vs. 일반 글꼴\n",
    "\n",
    "**굵은 글꼴로 표시된 변수는 벡터 또는 행렬을 나타냅니다. 일반 글꼴로 표시된 변수는 스칼라입니다.\n",
    "\n",
    "### 특징 3 - 방정식의 \"...\"\n",
    "\n",
    "방정식에 세 개의 점 $\\ldots$이 있으면 \"이 패턴은 여러 번 반복될 수 있습니다\"를 의미합니다.\n",
    "\n",
    "#### 예제 1 - 특징 1, 2, 3 적용\n",
    "\n",
    "$\\mathbf{a} = [a_1, a_2, \\ldots, a_n]$과 같은 표현식을 보면 다음과 같은 추론이 가능합니다.\n",
    "\n",
    "1. **$\\mathbf{a}$는 벡터입니다.** a가 굵게 표시되어 있으므로 벡터이거나 행렬이지만, 소문자이므로 벡터일 수밖에 없습니다.\n",
    "2. **$\\mathbf{a}$는 어떤 길이든 가질 수 있습니다**: $\\mathbf{a}$의 정의에 $\\ldots$가 있으므로 $a_1$과 $a_2$ 외에도 $a_3$, $a_4$ 등이 있을 수 있음을 알 수 있습니다...\n",
    "3. **$\\mathbf{a}$ 벡터의 값은 스칼라입니다**: $a_1$은 소문자이고 굵은 글씨가 아니므로 벡터나 행렬이 아니라 스칼라(일반 숫자)임을 알 수 있습니다."
   ]
  },
  {
   "cell_type": "markdown",
   "metadata": {},
   "source": [
    "### Feature 4 - $\\Sigma$ Notation\n",
    "\n",
    "The symbol $\\Sigma$ is the uppercase version of the greek letter \"sigma\" and it is an instruction to perform a sum.\n",
    "\n",
    "**When you see a $\\Sigma$ you should think \"for loop!\"**\n",
    "\n",
    "In the case of the dot product, the sigma instructs us to sum $a_ib_i$ for $i=1,2, \\ldots, n$. And in this case $n$ is just the length of the $\\mathbf{a}$ and $\\mathbf{b}$ vectors.\n",
    "\n",
    "How this for loop works is best explained with an example. Take a look at the `dot_product` function defined below. Try to read through the comments and really understand how the code connects to math.\n",
    "\n",
    "### 기능 4 - $\\Sigma$ 표기법\n",
    "\n",
    "기호 $\\Sigma$는 그리스 문자 \"시그마\"의 대문자 버전이며, 합을 구하는 명령입니다.\n",
    "\n",
    "**$\\Sigma$를 보면 \"for 루프!\"라고 생각해야 합니다.**\n",
    "\n",
    "점곱의 경우, 시그마는 $i=1,2, \\ldots, n$에 대해 $a_ib_i$를 더하라는 명령입니다. 이 경우 $n$은 $\\mathbf{a}$와 $\\mathbf{b}$ 벡터의 길이입니다.\n",
    "\n",
    "이 for 루프의 작동 방식은 예를 통해 가장 잘 설명됩니다. 아래에 정의된 `dot_product` 함수를 살펴보세요. 주석을 꼼꼼히 읽고 코드가 수학과 어떻게 연결되는지 이해해 보세요.\n"
   ]
  },
  {
   "cell_type": "markdown",
   "metadata": {},
   "source": [
    "**The MATH**\n",
    "\n",
    "The dot product of two vectors $\\mathbf{a} = [a_1, a_2, \\ldots, a_n]$ and $\\mathbf{b} = [b_1, b_2, \\ldots, b_n]$ is defined as: \n",
    "\n",
    "$$\\mathbf{a} \\cdot \\mathbf{b} = \\sum _{i=1}^{n}a_{i}b_{i}=a_{1}b_{1}+a_{2}b_{2}+\\cdots +a_{n}b_{n}$$"
   ]
  },
  {
   "cell_type": "code",
   "execution_count": null,
   "metadata": {
    "collapsed": true
   },
   "outputs": [],
   "source": [
    "# The CODE\n",
    "\n",
    "def dot_product(a, b):\n",
    "    # start by checking that a and b have the same length.\n",
    "    # I know they SHOULD have the same length because they\n",
    "    # each are DEFINED (in the first line above) to have n \n",
    "    # elements. Even though n isn't specified, the fact that \n",
    "    # a goes from 0 to n AND b does the same (instead of going\n",
    "    # from 0 to m for example) implies that these vectors \n",
    "    # always should have the same length.\n",
    "    if len(a) != len(b):\n",
    "        print(\"Error! Vectors must have the same length!\")\n",
    "        return None\n",
    "    \n",
    "    # let's call the length of these vectors \"n\" so we can\n",
    "    # be consistent with the mathematical notation\n",
    "    n = len(a)\n",
    "    \n",
    "    # Since we want to add up a bunch of terms, we should\n",
    "    # start by setting the total to zero and then add to \n",
    "    # this total n times.\n",
    "    total = 0\n",
    "    \n",
    "    # now we are going to perform the multiplication!\n",
    "    # note that the algebraic version goes from 1 to n. \n",
    "    # The Python version of this indexing will go from \n",
    "    # 0 to n-1 (recall that range(3) returns [0,1,2] for example).\n",
    "    for i in range(n): \n",
    "        a_i = a[i]\n",
    "        b_i = b[i]\n",
    "        total = total + a_i * b_i\n",
    "        \n",
    "    return total\n",
    "\n"
   ]
  },
  {
   "cell_type": "code",
   "execution_count": 3,
   "metadata": {},
   "outputs": [
    {
     "name": "stdout",
     "output_type": "stream",
     "text": [
      "52\n"
     ]
    }
   ],
   "source": [
    "# let's see if it works\n",
    "a = [3,2,4]\n",
    "b = [2,5,9]\n",
    "\n",
    "# a*b should be 3*2 + 2*5 + 4*9\n",
    "# or...           6 +  10 +  36 \n",
    "#                            52\n",
    "\n",
    "a_dot_b = dot_product(a,b)\n",
    "print(a_dot_b)"
   ]
  },
  {
   "cell_type": "code",
   "execution_count": null,
   "metadata": {
    "collapsed": true
   },
   "outputs": [],
   "source": []
  }
 ],
 "metadata": {
  "kernelspec": {
   "display_name": "Python 3",
   "language": "python",
   "name": "python3"
  },
  "language_info": {
   "codemirror_mode": {
    "name": "ipython",
    "version": 3
   },
   "file_extension": ".py",
   "mimetype": "text/x-python",
   "name": "python",
   "nbconvert_exporter": "python",
   "pygments_lexer": "ipython3",
   "version": "3.6.3"
  }
 },
 "nbformat": 4,
 "nbformat_minor": 2
}
